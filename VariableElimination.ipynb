{
 "cells": [
  {
   "cell_type": "code",
   "execution_count": 166,
   "metadata": {},
   "outputs": [],
   "source": [
    "#Import libraries\n",
    "import numpy as np\n",
    "from pgmpy.factors.discrete import TabularCPD\n",
    "from pgmpy.models import BayesianModel\n",
    "from IPython.display import Image"
   ]
  },
  {
   "cell_type": "code",
   "execution_count": 40,
   "metadata": {},
   "outputs": [
    {
     "name": "stdout",
     "output_type": "stream",
     "text": [
      "/bin/sh: 1: Syntax error: \"(\" unexpected\r\n"
     ]
    }
   ],
   "source": [
    "![alt text](BayesianNetwork.png \"Title\")"
   ]
  },
  {
   "cell_type": "markdown",
   "metadata": {},
   "source": [
    "### Create the Bayesian Network"
   ]
  },
  {
   "cell_type": "code",
   "execution_count": 4,
   "metadata": {},
   "outputs": [],
   "source": [
    "#Create the Bayesian Network model\n",
    "student_model = BayesianModel([('Difficulty', 'Grade'),\n",
    "                              ('Intelligence', 'Grade'),\n",
    "                              ('Intelligence', 'SAT'),\n",
    "                              ('Grade', 'Letter')])"
   ]
  },
  {
   "cell_type": "markdown",
   "metadata": {},
   "source": [
    "#### Define all the probabilities"
   ]
  },
  {
   "cell_type": "code",
   "execution_count": 116,
   "metadata": {},
   "outputs": [],
   "source": [
    "difficulty_cpd = TabularCPD(\n",
    "    variable = 'Difficulty',\n",
    "    variable_card = 2,\n",
    "    values = [[.6, .4]])"
   ]
  },
  {
   "cell_type": "code",
   "execution_count": 117,
   "metadata": {},
   "outputs": [],
   "source": [
    "intelligence_cpd = TabularCPD(\n",
    "    variable = 'Intelligence',\n",
    "    variable_card = 2,\n",
    "    values = [[.7, .3]])"
   ]
  },
  {
   "cell_type": "code",
   "execution_count": 208,
   "metadata": {},
   "outputs": [],
   "source": [
    "sat_cpd = TabularCPD(\n",
    "    variable = 'SAT',\n",
    "    variable_card = 2,\n",
    "    values = [[.95, .2],\n",
    "             [0.05, .8]],\n",
    "    evidence = ['Intelligence'],\n",
    "    evidence_card = [2])    "
   ]
  },
  {
   "cell_type": "code",
   "execution_count": 161,
   "metadata": {},
   "outputs": [],
   "source": [
    "grade_cpd = TabularCPD(\n",
    "    variable = 'Grade', \n",
    "    variable_card = 3,\n",
    "    values = [[.3, .05, .9, .5],\n",
    "             [.4, .25, .08, .3],\n",
    "             [.3, .7, .02, .2]],\n",
    "    evidence = ['Difficulty', 'Intelligence'],\n",
    "    evidence_card = [2,2])"
   ]
  },
  {
   "cell_type": "code",
   "execution_count": 120,
   "metadata": {},
   "outputs": [],
   "source": [
    "letter_cpd = TabularCPD(\n",
    "    variable = 'Letter',\n",
    "    variable_card = 2,\n",
    "    values = [[0.1, 0.4, 0.99],\n",
    "             [0.9, 0.6, 0.01]],\n",
    "    evidence = ['Grade'],\n",
    "    evidence_card = [3])"
   ]
  },
  {
   "cell_type": "markdown",
   "metadata": {},
   "source": [
    "### Relation the model with the probabilities"
   ]
  },
  {
   "cell_type": "code",
   "execution_count": 209,
   "metadata": {},
   "outputs": [
    {
     "name": "stderr",
     "output_type": "stream",
     "text": [
      "WARNING:root:Replacing existing CPD for Difficulty\n",
      "WARNING:root:Replacing existing CPD for Intelligence\n",
      "WARNING:root:Replacing existing CPD for SAT\n",
      "WARNING:root:Replacing existing CPD for Grade\n",
      "WARNING:root:Replacing existing CPD for Letter\n"
     ]
    }
   ],
   "source": [
    "student_model.add_cpds(difficulty_cpd, intelligence_cpd, sat_cpd, grade_cpd, letter_cpd)"
   ]
  },
  {
   "cell_type": "markdown",
   "metadata": {},
   "source": [
    "### The structure"
   ]
  },
  {
   "cell_type": "code",
   "execution_count": 11,
   "metadata": {},
   "outputs": [
    {
     "data": {
      "text/plain": [
       "[<TabularCPD representing P(Difficulty:2) at 0x7fa51a7968d0>,\n",
       " <TabularCPD representing P(Intelligence:2) at 0x7fa4e557f128>,\n",
       " <TabularCPD representing P(SAT:2 | Intelligence:2) at 0x7fa4e557f470>,\n",
       " <TabularCPD representing P(Grade:3 | Difficulty:2, Intelligence:2) at 0x7fa4e557f748>,\n",
       " <TabularCPD representing P(Letter:2 | Grade:3) at 0x7fa4e557f5c0>]"
      ]
     },
     "execution_count": 11,
     "metadata": {},
     "output_type": "execute_result"
    }
   ],
   "source": [
    "student_model.get_cpds()"
   ]
  },
  {
   "cell_type": "markdown",
   "metadata": {},
   "source": [
    "### Fine active trail nodes"
   ]
  },
  {
   "cell_type": "code",
   "execution_count": 12,
   "metadata": {},
   "outputs": [
    {
     "data": {
      "text/plain": [
       "{'Grade': {'Difficulty', 'Grade', 'Intelligence', 'Letter', 'SAT'}}"
      ]
     },
     "execution_count": 12,
     "metadata": {},
     "output_type": "execute_result"
    }
   ],
   "source": [
    "student_model.active_trail_nodes('Grade')"
   ]
  },
  {
   "cell_type": "code",
   "execution_count": 13,
   "metadata": {},
   "outputs": [
    {
     "data": {
      "text/plain": [
       "{'SAT': {'Grade', 'Intelligence', 'Letter', 'SAT'}}"
      ]
     },
     "execution_count": 13,
     "metadata": {},
     "output_type": "execute_result"
    }
   ],
   "source": [
    "student_model.active_trail_nodes('SAT')"
   ]
  },
  {
   "cell_type": "markdown",
   "metadata": {},
   "source": [
    "### Find local independencies"
   ]
  },
  {
   "cell_type": "code",
   "execution_count": 14,
   "metadata": {},
   "outputs": [
    {
     "data": {
      "text/plain": [
       "(SAT _|_ Difficulty, Letter, Grade | Intelligence)"
      ]
     },
     "execution_count": 14,
     "metadata": {},
     "output_type": "execute_result"
    }
   ],
   "source": [
    "student_model.local_independencies('SAT')"
   ]
  },
  {
   "cell_type": "code",
   "execution_count": 15,
   "metadata": {},
   "outputs": [
    {
     "data": {
      "text/plain": [
       "(Grade _|_ SAT, Letter | Intelligence, Difficulty)"
      ]
     },
     "execution_count": 15,
     "metadata": {},
     "output_type": "execute_result"
    }
   ],
   "source": [
    "student_model.local_independencies('Grade')"
   ]
  },
  {
   "cell_type": "code",
   "execution_count": 16,
   "metadata": {},
   "outputs": [
    {
     "data": {
      "text/plain": [
       "(Letter _|_ SAT, Intelligence, Difficulty | Grade)"
      ]
     },
     "execution_count": 16,
     "metadata": {},
     "output_type": "execute_result"
    }
   ],
   "source": [
    "student_model.local_independencies('Letter')"
   ]
  },
  {
   "cell_type": "markdown",
   "metadata": {},
   "source": [
    "### Get all independencies"
   ]
  },
  {
   "cell_type": "code",
   "execution_count": 17,
   "metadata": {},
   "outputs": [
    {
     "data": {
      "text/plain": [
       "(SAT _|_ Difficulty)\n",
       "(SAT _|_ Grade, Letter, Difficulty | Intelligence)\n",
       "(SAT _|_ Letter | Grade)\n",
       "(SAT _|_ Letter, Difficulty | Intelligence, Grade)\n",
       "(SAT _|_ Grade, Difficulty | Letter, Intelligence)\n",
       "(SAT _|_ Letter, Grade | Intelligence, Difficulty)\n",
       "(SAT _|_ Letter | Difficulty, Grade)\n",
       "(SAT _|_ Difficulty | Letter, Intelligence, Grade)\n",
       "(SAT _|_ Letter | Difficulty, Intelligence, Grade)\n",
       "(SAT _|_ Grade | Letter, Intelligence, Difficulty)\n",
       "(Intelligence _|_ Difficulty)\n",
       "(Intelligence _|_ Difficulty | SAT)\n",
       "(Intelligence _|_ Letter | Grade)\n",
       "(Intelligence _|_ Letter | SAT, Grade)\n",
       "(Intelligence _|_ Letter | Difficulty, Grade)\n",
       "(Intelligence _|_ Letter | SAT, Difficulty, Grade)\n",
       "(Grade _|_ SAT | Intelligence)\n",
       "(Grade _|_ SAT | Letter, Intelligence)\n",
       "(Grade _|_ SAT | Intelligence, Difficulty)\n",
       "(Grade _|_ SAT | Letter, Intelligence, Difficulty)\n",
       "(Difficulty _|_ SAT, Intelligence)\n",
       "(Difficulty _|_ Intelligence | SAT)\n",
       "(Difficulty _|_ SAT | Intelligence)\n",
       "(Difficulty _|_ Letter | Grade)\n",
       "(Difficulty _|_ Letter | SAT, Grade)\n",
       "(Difficulty _|_ SAT | Letter, Intelligence)\n",
       "(Difficulty _|_ SAT, Letter | Intelligence, Grade)\n",
       "(Difficulty _|_ Letter | SAT, Intelligence, Grade)\n",
       "(Difficulty _|_ SAT | Letter, Intelligence, Grade)\n",
       "(Letter _|_ SAT, Intelligence, Difficulty | Grade)\n",
       "(Letter _|_ SAT | Intelligence)\n",
       "(Letter _|_ Intelligence, Difficulty | SAT, Grade)\n",
       "(Letter _|_ SAT, Difficulty | Intelligence, Grade)\n",
       "(Letter _|_ SAT, Intelligence | Difficulty, Grade)\n",
       "(Letter _|_ SAT | Intelligence, Difficulty)\n",
       "(Letter _|_ Difficulty | SAT, Intelligence, Grade)\n",
       "(Letter _|_ Intelligence | SAT, Difficulty, Grade)\n",
       "(Letter _|_ SAT | Difficulty, Intelligence, Grade)"
      ]
     },
     "execution_count": 17,
     "metadata": {},
     "output_type": "execute_result"
    }
   ],
   "source": [
    "student_model.get_independencies()"
   ]
  },
  {
   "cell_type": "markdown",
   "metadata": {},
   "source": [
    "## Variable Elimination"
   ]
  },
  {
   "cell_type": "code",
   "execution_count": 173,
   "metadata": {},
   "outputs": [],
   "source": [
    "#First value: Bayesian network model\n",
    "#Second value: Element to delete\n",
    "#Third value: Element to result\n",
    "def JoinDistribution(model, arr_del, evidence, result):\n",
    "    \n",
    "     #Reshape result element\n",
    "    dim_result = 1\n",
    "    _len_result = student_model.get_cpds(result).values.shape\n",
    "    for n in range(len(_len_result)):\n",
    "        dim_result *= _len_result[n]\n",
    "    _result = student_model.get_cpds(result).values.reshape((dim_result,1))\n",
    "        \n",
    "    #Iterations\n",
    "    for k in range(len(arr_del)):\n",
    "        \n",
    "        dim_del = 1\n",
    "        #Reshape delete element\n",
    "        _len_del = student_model.get_cpds(arr_del[k]).values.shape\n",
    "        for m in range(len(_len_del)):\n",
    "            dim_del *=_len_del[m]\n",
    "        _del = student_model.get_cpds(arr_del[k]).values.reshape((dim_del,1))\n",
    "        \n",
    "        #del\n",
    "        for i in range(dim_del):\n",
    "            if i%2 == 0:\n",
    "                active = True\n",
    "            else:\n",
    "                active = False\n",
    "                \n",
    "            count = k\n",
    "            for j in range(dim_result):\n",
    "                if active:\n",
    "                    _result[j] = _result[j]*_del[i]\n",
    "                \n",
    "                if count == 0:\n",
    "                    if active:\n",
    "                        active = False\n",
    "                    else:\n",
    "                        active = True\n",
    "                    count = k\n",
    "                else:\n",
    "                    count = count-1\n",
    "                    \n",
    "            #print(\"-->\",_result)\n",
    "            \n",
    "        #Do Join Distribucion\n",
    "            \n",
    "    return Reduction(_result, arr_del, evidence)"
   ]
  },
  {
   "cell_type": "code",
   "execution_count": 141,
   "metadata": {},
   "outputs": [],
   "source": [
    "#First value: Bayesian network model\n",
    "#Second value: Element to delete\n",
    "#Third value: Element to result\n",
    "def JoinDistribution(model, arr_del, result):\n",
    "    \n",
    "     #Reshape result element\n",
    "    dim_result = 1\n",
    "    _len_result = student_model.get_cpds(result).values.shape\n",
    "    for n in range(len(_len_result)):\n",
    "        dim_result *= _len_result[n]\n",
    "    _result = student_model.get_cpds(result).values.reshape((dim_result,1))\n",
    "        \n",
    "    #Iterations\n",
    "    for k in range(len(arr_del)):\n",
    "        \n",
    "        dim_del = 1\n",
    "        #Reshape delete element\n",
    "        _len_del = student_model.get_cpds(arr_del[k]).values.shape\n",
    "        for m in range(len(_len_del)):\n",
    "            dim_del *=_len_del[m]\n",
    "        _del = student_model.get_cpds(arr_del[k]).values.reshape((dim_del,1))\n",
    "        \n",
    "        #del\n",
    "        for i in range(dim_del):\n",
    "            if i%2 == 0:\n",
    "                active = True\n",
    "            else:\n",
    "                active = False\n",
    "                \n",
    "            count = k\n",
    "            for j in range(dim_result):\n",
    "                if active:\n",
    "                    _result[j] = _result[j]*_del[i]\n",
    "                \n",
    "                if count == 0:\n",
    "                    if active:\n",
    "                        active = False\n",
    "                    else:\n",
    "                        active = True\n",
    "                    count = k\n",
    "                else:\n",
    "                    count = count-1\n",
    "                    \n",
    "            #print(\"-->\",_result)\n",
    "            \n",
    "        #Do Join Distribucion\n",
    "            \n",
    "    return _result"
   ]
  },
  {
   "cell_type": "code",
   "execution_count": 146,
   "metadata": {},
   "outputs": [],
   "source": [
    "def Marginalization(_result, cardinalidad):\n",
    "    _ret = np.zeros((cardinalidad,1))\n",
    "    \n",
    "    longitud = len(_result)\n",
    "    _ret_pos = 0\n",
    "    \n",
    "    for i in range(len(_result)):\n",
    "        _ret[_ret_pos] += _result[i]\n",
    "        \n",
    "        if((i+1)%(longitud/cardinalidad) == 0):\n",
    "            _ret_pos +=1\n",
    "            \n",
    "    return _ret       \n",
    "    "
   ]
  },
  {
   "cell_type": "code",
   "execution_count": 207,
   "metadata": {},
   "outputs": [],
   "source": [
    "def Reduction(_result, arr_del, evidence):\n",
    "    val = evidence.get(arr_del[0])\n",
    "    longitud = len(_result)\n",
    "    \n",
    "    _arr = np.zeros((int(longitud/2),1))\n",
    "    \n",
    "    for i in range(longitud):\n",
    "        if i%2 == val:\n",
    "            _arr[int(i/2)] = _result[i]\n",
    "            \n",
    "    return Renormalization(_arr)"
   ]
  },
  {
   "cell_type": "code",
   "execution_count": 191,
   "metadata": {},
   "outputs": [],
   "source": [
    "def Renormalization(_arr):\n",
    "    suma = np.sum(_arr)\n",
    "    return _arr/suma\n",
    "    "
   ]
  },
  {
   "cell_type": "code",
   "execution_count": 43,
   "metadata": {},
   "outputs": [],
   "source": [
    "x = student_model.get_cpds(\"SAT\").values.shape"
   ]
  },
  {
   "cell_type": "code",
   "execution_count": 131,
   "metadata": {},
   "outputs": [
    {
     "data": {
      "text/plain": [
       "array([[[0.0756 , 0.0056 ],\n",
       "        [0.0972 , 0.024  ]],\n",
       "\n",
       "       [[0.1008 , 0.028  ],\n",
       "        [0.00864, 0.0144 ]],\n",
       "\n",
       "       [[0.0756 , 0.0784 ],\n",
       "        [0.00216, 0.0096 ]]])"
      ]
     },
     "execution_count": 131,
     "metadata": {},
     "output_type": "execute_result"
    }
   ],
   "source": [
    "student_model.get_cpds(\"Grade\").values"
   ]
  },
  {
   "cell_type": "markdown",
   "metadata": {},
   "source": [
    "## Making Inferences"
   ]
  },
  {
   "cell_type": "markdown",
   "metadata": {},
   "source": [
    "### P(Grade)"
   ]
  },
  {
   "cell_type": "code",
   "execution_count": 144,
   "metadata": {},
   "outputs": [],
   "source": [
    "#First value: The model\n",
    "#Second value: list of variable dependencies\n",
    "#Third value: the inference\n",
    "#Example: P(Grade). Grade depend to Difficulty and Intelligence\n",
    "arr = JoinDistribution(student_model, [\"Difficulty\", \"Intelligence\"], \"Grade\")"
   ]
  },
  {
   "cell_type": "code",
   "execution_count": 148,
   "metadata": {},
   "outputs": [
    {
     "data": {
      "text/plain": [
       "array([[0.126 ],\n",
       "       [0.014 ],\n",
       "       [0.162 ],\n",
       "       [0.06  ],\n",
       "       [0.168 ],\n",
       "       [0.07  ],\n",
       "       [0.0144],\n",
       "       [0.036 ],\n",
       "       [0.126 ],\n",
       "       [0.196 ],\n",
       "       [0.0036],\n",
       "       [0.024 ]])"
      ]
     },
     "execution_count": 148,
     "metadata": {},
     "output_type": "execute_result"
    }
   ],
   "source": [
    "arr"
   ]
  },
  {
   "cell_type": "code",
   "execution_count": 149,
   "metadata": {},
   "outputs": [
    {
     "data": {
      "text/plain": [
       "array([[0.362 ],\n",
       "       [0.2884],\n",
       "       [0.3496]])"
      ]
     },
     "execution_count": 149,
     "metadata": {},
     "output_type": "execute_result"
    }
   ],
   "source": [
    "Marginalization(arr, student_model.get_cardinality(\"Grade\"))"
   ]
  },
  {
   "cell_type": "markdown",
   "metadata": {},
   "source": [
    "### P(SAT)"
   ]
  },
  {
   "cell_type": "code",
   "execution_count": 150,
   "metadata": {},
   "outputs": [],
   "source": [
    "#Third value: Conserve this value\n",
    "arr = JoinDistribution(student_model, [\"Intelligence\"], \"SAT\")"
   ]
  },
  {
   "cell_type": "code",
   "execution_count": 151,
   "metadata": {},
   "outputs": [
    {
     "data": {
      "text/plain": [
       "array([[0.665],\n",
       "       [0.06 ],\n",
       "       [0.035],\n",
       "       [0.24 ]])"
      ]
     },
     "execution_count": 151,
     "metadata": {},
     "output_type": "execute_result"
    }
   ],
   "source": [
    "arr"
   ]
  },
  {
   "cell_type": "code",
   "execution_count": 152,
   "metadata": {},
   "outputs": [
    {
     "data": {
      "text/plain": [
       "array([[0.725],\n",
       "       [0.275]])"
      ]
     },
     "execution_count": 152,
     "metadata": {},
     "output_type": "execute_result"
    }
   ],
   "source": [
    "Marginalization(arr, student_model.get_cardinality(\"SAT\"))"
   ]
  },
  {
   "cell_type": "code",
   "execution_count": null,
   "metadata": {},
   "outputs": [],
   "source": []
  },
  {
   "cell_type": "code",
   "execution_count": 157,
   "metadata": {},
   "outputs": [],
   "source": [
    "#Third value: Conserve this value\n",
    "arr = JoinDistribution(student_model, [\"Grade\", \"Difficulty\", \"Intelligence\"], \"Letter\")"
   ]
  },
  {
   "cell_type": "code",
   "execution_count": 158,
   "metadata": {},
   "outputs": [
    {
     "data": {
      "text/plain": [
       "array([[2.1772800e-06],\n",
       "       [4.4100000e-05],\n",
       "       [1.4370048e-05],\n",
       "       [2.8350000e-05],\n",
       "       [5.5987200e-06],\n",
       "       [4.7250000e-07]])"
      ]
     },
     "execution_count": 158,
     "metadata": {},
     "output_type": "execute_result"
    }
   ],
   "source": [
    "arr"
   ]
  },
  {
   "cell_type": "markdown",
   "metadata": {},
   "source": [
    "### P(SAT) evidence Intelligence = 0"
   ]
  },
  {
   "cell_type": "code",
   "execution_count": 205,
   "metadata": {},
   "outputs": [],
   "source": [
    "#Third value: Conserve this value\n",
    "arr = JoinDistribution(student_model, [\"Intelligence\"], {'Intelligence':0},\"SAT\")"
   ]
  },
  {
   "cell_type": "code",
   "execution_count": 206,
   "metadata": {},
   "outputs": [
    {
     "data": {
      "text/plain": [
       "array([[0.95],\n",
       "       [0.05]])"
      ]
     },
     "execution_count": 206,
     "metadata": {},
     "output_type": "execute_result"
    }
   ],
   "source": [
    "arr"
   ]
  },
  {
   "cell_type": "markdown",
   "metadata": {},
   "source": [
    "### P(SAT) evidence Intelligence = 1"
   ]
  },
  {
   "cell_type": "code",
   "execution_count": 210,
   "metadata": {},
   "outputs": [],
   "source": [
    "#Third value: Conserve this value\n",
    "arr = JoinDistribution(student_model, [\"Intelligence\"], {'Intelligence':1},\"SAT\")"
   ]
  },
  {
   "cell_type": "code",
   "execution_count": 211,
   "metadata": {},
   "outputs": [
    {
     "data": {
      "text/plain": [
       "array([[0.2],\n",
       "       [0.8]])"
      ]
     },
     "execution_count": 211,
     "metadata": {},
     "output_type": "execute_result"
    }
   ],
   "source": [
    "arr"
   ]
  },
  {
   "cell_type": "markdown",
   "metadata": {},
   "source": [
    "## Prueba"
   ]
  },
  {
   "cell_type": "code",
   "execution_count": 43,
   "metadata": {},
   "outputs": [
    {
     "name": "stdout",
     "output_type": "stream",
     "text": [
      "╒════════════╤═════════════════╕\n",
      "│ Genetics   │   phi(Genetics) │\n",
      "╞════════════╪═════════════════╡\n",
      "│ Genetics_0 │          0.3846 │\n",
      "├────────────┼─────────────────┤\n",
      "│ Genetics_1 │          0.6154 │\n",
      "╘════════════╧═════════════════╛\n"
     ]
    }
   ],
   "source": [
    "# BUT Practice does tell us something about genetics IF we also \n",
    "# know something about olympic trials performance\n",
    "prob_good_genes_if_no_practice_good_olympic_trials = olympic_infer.query(\n",
    "                                        variables = ['Genetics'], \n",
    "                                        evidence = {'Practice':1,\n",
    "                                                   'OlympicTrials':2})\n",
    "print(prob_good_genes_if_no_practice_good_olympic_trials['Genetics'])\n",
    "\n"
   ]
  }
 ],
 "metadata": {
  "kernelspec": {
   "display_name": "Python 3",
   "language": "python",
   "name": "python3"
  },
  "language_info": {
   "codemirror_mode": {
    "name": "ipython",
    "version": 3
   },
   "file_extension": ".py",
   "mimetype": "text/x-python",
   "name": "python",
   "nbconvert_exporter": "python",
   "pygments_lexer": "ipython3",
   "version": "3.5.2"
  }
 },
 "nbformat": 4,
 "nbformat_minor": 2
}
